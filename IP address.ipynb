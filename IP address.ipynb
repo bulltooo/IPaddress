{
 "cells": [
  {
   "cell_type": "code",
   "execution_count": 2,
   "metadata": {
    "collapsed": true
   },
   "outputs": [],
   "source": [
    "ip_1 = '182.16.87.4'\n",
    "ip_2 = '192.168.0.1010'\n",
    "ip_3 = '8.8.4.4'\n",
    "ip_4 = '4.5'\n",
    "ip_5 = '0.0.0.0'\n",
    "ip_6 = '0..33.444'\n",
    "ip_7 = '127.0.0.1'\n",
    "ip_8 = '130.69.256.23'\n",
    "ip_9 = '.3.5.5'\n",
    "ip_10 = '192.400.1.10.1000...'"
   ]
  },
  {
   "cell_type": "code",
   "execution_count": 3,
   "metadata": {},
   "outputs": [
    {
     "name": "stdout",
     "output_type": "stream",
     "text": [
      "True\n"
     ]
    }
   ],
   "source": [
    "ip_list = ip_1.split(\".\")\n",
    "    \n",
    "result = []\n",
    "\n",
    "for i in ip_list:\n",
    "    try:\n",
    "        if 0<=int(i)<=255 :\n",
    "            result.append(int(i))\n",
    "\n",
    "    except ValueError:\n",
    "        break\n",
    "\n",
    "if len(result) == 4 :\n",
    "    print(\"True\")\n",
    "else :\n",
    "    print(\"False\")\n"
   ]
  },
  {
   "cell_type": "code",
   "execution_count": 4,
   "metadata": {
    "collapsed": true
   },
   "outputs": [],
   "source": [
    "##実行方法：1行目のip_1.splitの数字部分を1から10まで変更\n",
    "##お手数ですが、お願い致します。\n",
    "\n",
    "##実装案\n",
    "##1．split(“.”)により、要素が数値もしくはヌルの配列を生成\n",
    "\n",
    "##2．配列resultを生成する。1で生成した配列の要素の内、int型に変換可能であり、値が0以上255以下のものだけを順に取り出す。一つでも該当しない要素が存在した場合はその時点で終了。\n",
    "\n",
    "##3．結果的に生成された配列の要素数が（条件に当てはまった値の数）が4の場合のみIPV4の範囲であると判断。\n",
    "\n",
    "##ValueErrorを検知するコードを記載する際に、インターネットにて調査。"
   ]
  },
  {
   "cell_type": "code",
   "execution_count": null,
   "metadata": {
    "collapsed": true
   },
   "outputs": [],
   "source": []
  }
 ],
 "metadata": {
  "kernelspec": {
   "display_name": "Python 3",
   "language": "python",
   "name": "python3"
  },
  "language_info": {
   "codemirror_mode": {
    "name": "ipython",
    "version": 3
   },
   "file_extension": ".py",
   "mimetype": "text/x-python",
   "name": "python",
   "nbconvert_exporter": "python",
   "pygments_lexer": "ipython3",
   "version": "3.6.1"
  }
 },
 "nbformat": 4,
 "nbformat_minor": 2
}
