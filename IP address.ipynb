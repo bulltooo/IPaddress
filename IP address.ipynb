{
 "cells": [
  {
   "cell_type": "code",
   "execution_count": 1,
   "metadata": {
    "collapsed": true
   },
   "outputs": [],
   "source": [
    "ip_1 = '182.16.87.4'\n",
    "ip_2 = '192.168.0.1010'\n",
    "ip_3 = '8.8.4.4'\n",
    "ip_4 = '4.5'\n",
    "ip_5 = '0.0.0.0'\n",
    "ip_6 = '0..33.444'\n",
    "ip_7 = '127.0.0.1'\n",
    "ip_8 = '130.69.256.23'\n",
    "ip_9 = '.3.5.5'\n",
    "ip_10 = '192.400.1.10.1000...'"
   ]
  },
  {
   "cell_type": "code",
   "execution_count": 2,
   "metadata": {},
   "outputs": [
    {
     "name": "stdout",
     "output_type": "stream",
     "text": [
      "True\n"
     ]
    }
   ],
   "source": [
    "ip_list = ip_1.split(\".\")\n",
    "    \n",
    "result = []\n",
    "\n",
    "for i in ip_list:\n",
    "    try:\n",
    "        if 0<=int(i)<=255 :\n",
    "            result.append(int(i))\n",
    "\n",
    "    except ValueError:\n",
    "        break\n",
    "\n",
    "if len(result) == 4 :\n",
    "    print(\"True\")\n",
    "else :\n",
    "    print(\"False\")\n"
   ]
  }
 ],
 "metadata": {
  "kernelspec": {
   "display_name": "Python 3",
   "language": "python",
   "name": "python3"
  },
  "language_info": {
   "codemirror_mode": {
    "name": "ipython",
    "version": 3
   },
   "file_extension": ".py",
   "mimetype": "text/x-python",
   "name": "python",
   "nbconvert_exporter": "python",
   "pygments_lexer": "ipython3",
   "version": "3.6.1"
  }
 },
 "nbformat": 4,
 "nbformat_minor": 2
}
